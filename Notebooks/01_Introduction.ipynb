{
 "cells": [
  {
   "cell_type": "markdown",
   "metadata": {},
   "source": [
    "\n",
    "# Crash Course In Linear Algebra For Data Scientists\n",
    "\n",
    "## Preamble\n",
    "This notebook was made for the purposes of quickly introducing the theoretical groundwork of Linear Algebra for Data Scientists.\n",
    "To that end, we will be primarily making the computer do the hard work of doing the tedious calculations for us.\n",
    "Specifically, this notebook will be using numpy as the backend for the computations.\n",
    "\n",
    "This notebook will just ensure that your environment is loaded and all basic operations are supported.\n",
    "\n",
    "\n",
    "\n",
    "## Contents\n",
    "1. Basic Linear Algebra Operations\n",
    "2. Vector Spaces\n",
    "2. Inverse Matrix Theorem\n",
    "3. Regression and PCA\n",
    "3. L_1 and L_2 norms from Linear Algebra.\n",
    "4. Graph Representations"
   ]
  },
  {
   "cell_type": "markdown",
   "metadata": {},
   "source": [
    "## Aim of this notebook.\n",
    "\n",
    "This notebook simply aims to make sure you have the basic environment set up to work with the rest of the notebooks."
   ]
  },
  {
   "cell_type": "code",
   "execution_count": 1,
   "metadata": {},
   "outputs": [],
   "source": [
    "import numpy as np"
   ]
  },
  {
   "cell_type": "markdown",
   "metadata": {},
   "source": [
    "### Creating and shaping numpy arrays."
   ]
  },
  {
   "cell_type": "code",
   "execution_count": 2,
   "metadata": {},
   "outputs": [
    {
     "name": "stdout",
     "output_type": "stream",
     "text": [
      "A 1 row by 4 column numpy matrix\n",
      "[0 1 2 3]\n"
     ]
    }
   ],
   "source": [
    "# Create numpy arrays like this.\n",
    "\n",
    "print(\"A 1 row by 4 column numpy matrix\\n{}\".format(np.array(range(4))))"
   ]
  },
  {
   "cell_type": "code",
   "execution_count": 3,
   "metadata": {},
   "outputs": [
    {
     "name": "stdout",
     "output_type": "stream",
     "text": [
      "A 2 row by 2 column numpy matrix\n",
      "[[0 1]\n",
      " [2 3]]\n"
     ]
    }
   ],
   "source": [
    "# Create a 2 by 2 matrix like this.\n",
    "\n",
    "A = np.array(range(4)).reshape(2,2) # Reshape into an array of two rows and 2 columns.\n",
    "print(\"A 2 row by 2 column numpy matrix\\n{}\".format(A))"
   ]
  },
  {
   "cell_type": "code",
   "execution_count": 4,
   "metadata": {},
   "outputs": [
    {
     "name": "stdout",
     "output_type": "stream",
     "text": [
      "A 3 row by 2 column numpy matrix\n",
      "[[0 1]\n",
      " [2 3]\n",
      " [4 5]]\n"
     ]
    }
   ],
   "source": [
    "# Create a 3 by 2 matrix.\n",
    "\n",
    "A = np.array(range(6)).reshape(3,2)\n",
    "print(\"A 3 row by 2 column numpy matrix\\n{}\".format(A))\n",
    "\n",
    "# Note the ordering of how it reshapes.  It places items item by item until the row is filled."
   ]
  },
  {
   "cell_type": "code",
   "execution_count": 5,
   "metadata": {},
   "outputs": [
    {
     "ename": "ValueError",
     "evalue": "cannot reshape array of size 6 into shape (2,4)",
     "output_type": "error",
     "traceback": [
      "\u001b[0;31m---------------------------------------------------------------------------\u001b[0m",
      "\u001b[0;31mValueError\u001b[0m                                Traceback (most recent call last)",
      "\u001b[0;32m<ipython-input-5-f131031bdce3>\u001b[0m in \u001b[0;36m<module>\u001b[0;34m()\u001b[0m\n\u001b[1;32m      1\u001b[0m \u001b[0;31m# Be careful to match the number of elements to the shape you give to reshape!\u001b[0m\u001b[0;34m\u001b[0m\u001b[0;34m\u001b[0m\u001b[0m\n\u001b[0;32m----> 2\u001b[0;31m \u001b[0mnp\u001b[0m\u001b[0;34m.\u001b[0m\u001b[0marray\u001b[0m\u001b[0;34m(\u001b[0m\u001b[0mrange\u001b[0m\u001b[0;34m(\u001b[0m\u001b[0;36m6\u001b[0m\u001b[0;34m)\u001b[0m\u001b[0;34m)\u001b[0m\u001b[0;34m.\u001b[0m\u001b[0mreshape\u001b[0m\u001b[0;34m(\u001b[0m\u001b[0;36m2\u001b[0m\u001b[0;34m,\u001b[0m\u001b[0;36m4\u001b[0m\u001b[0;34m)\u001b[0m \u001b[0;31m# Size of the inputs must equal the product of the dimensions.\u001b[0m\u001b[0;34m\u001b[0m\u001b[0m\n\u001b[0m",
      "\u001b[0;31mValueError\u001b[0m: cannot reshape array of size 6 into shape (2,4)"
     ]
    }
   ],
   "source": [
    "# Be careful to match the number of elements to the shape you give to reshape!\n",
    "np.array(range(6)).reshape(2,4) # Size of the inputs must equal the product of the dimensions."
   ]
  },
  {
   "cell_type": "markdown",
   "metadata": {},
   "source": [
    "For our purposes, a ``matrix`` will be a numpy array of shape ``(m, n) where m, n > 0 and are integers``.  The matrix may consist of fractions, floats, or complex numbers.\n",
    "\n",
    "A ``vector`` will be a matrix of shape (m, 1).\n",
    "\n",
    "Algebraically speaking a matrix of integers is a ``module`` and is a generalization of linear Algebra.  We will not speak of such things again.  If a matrix of integers is provided, presume we meant either floats, fractions, or complex numbers as deduced from context."
   ]
  },
  {
   "cell_type": "code",
   "execution_count": 16,
   "metadata": {},
   "outputs": [
    {
     "data": {
      "text/plain": [
       "array([[0],\n",
       "       [1],\n",
       "       [2]])"
      ]
     },
     "execution_count": 16,
     "metadata": {},
     "output_type": "execute_result"
    }
   ],
   "source": [
    "# Create a (1,3) vector\n",
    "np.array(range(3)).reshape(3,1)"
   ]
  },
  {
   "cell_type": "code",
   "execution_count": 6,
   "metadata": {},
   "outputs": [
    {
     "name": "stdout",
     "output_type": "stream",
     "text": [
      "A tensor!\n",
      "[[[ 0  1  2  3]\n",
      "  [ 4  5  6  7]\n",
      "  [ 8  9 10 11]]\n",
      "\n",
      " [[12 13 14 15]\n",
      "  [16 17 18 19]\n",
      "  [20 21 22 23]]]\n"
     ]
    }
   ],
   "source": [
    "# You can use this to create larger tensors, but we will not discuss tensors further in this tutorial.\n",
    "\n",
    "print(\"A tensor!\\n{}\".format(np.array(range(24)).reshape(2,3,4)))\n",
    "\n",
    "# Golly gee whiz!  Looks like two 3 by 4 matrices!"
   ]
  },
  {
   "cell_type": "markdown",
   "metadata": {},
   "source": [
    "### Numpy supports broadcasting of operations."
   ]
  },
  {
   "cell_type": "code",
   "execution_count": 7,
   "metadata": {},
   "outputs": [
    {
     "data": {
      "text/plain": [
       "array([[ 4,  6],\n",
       "       [ 8, 10]])"
      ]
     },
     "execution_count": 7,
     "metadata": {},
     "output_type": "execute_result"
    }
   ],
   "source": [
    "A = np.array([2,3,4,5]).reshape(2,2)\n",
    "2 * A"
   ]
  },
  {
   "cell_type": "markdown",
   "metadata": {},
   "source": [
    "#### This is analagous to scalar multiplication with matrices.\n",
    "\n",
    "2 * [[2,3],[4,5]] = [[4,6],[8,10]]"
   ]
  },
  {
   "cell_type": "code",
   "execution_count": 8,
   "metadata": {},
   "outputs": [
    {
     "data": {
      "text/plain": [
       "array([[ 1. ,  1.5],\n",
       "       [ 2. ,  2.5]])"
      ]
     },
     "execution_count": 8,
     "metadata": {},
     "output_type": "execute_result"
    }
   ],
   "source": [
    "# Numpy dynamically casts to floats, etc.\n",
    "0.5 * A"
   ]
  },
  {
   "cell_type": "code",
   "execution_count": 14,
   "metadata": {},
   "outputs": [
    {
     "name": "stdout",
     "output_type": "stream",
     "text": [
      "Element-wise multiplication:\n",
      "A .* b = \n",
      "[[ 0  2]\n",
      " [10 15]]\n",
      "\n",
      "Matrix-Multiplication:\n",
      "A * b = \n",
      "[[ 5]\n",
      " [19]]\n"
     ]
    }
   ],
   "source": [
    "# Careful to multiply matrices, vectors, etc with the np.matmul operation.\n",
    "A = np.array(range(4)).reshape(2,2)\n",
    "b = np.array([2,5]).reshape(2,1)\n",
    "\n",
    "element_wise_multiplication = A * b\n",
    "matrix_multiplication = np.matmul(A, b)\n",
    "\n",
    "print(\"Element-wise multiplication:\\nA .* b = \\n{}\\n\".format(element_wise_multiplication))\n",
    "print(\"Matrix-Multiplication:\\nA * b = \\n{}\".format(matrix_multiplication))"
   ]
  },
  {
   "cell_type": "markdown",
   "metadata": {},
   "source": [
    "## Basic Axioms of Linear Algebra\n",
    "\n",
    "Taken from the Ikkipedia\n",
    "\n",
    "### Vector spaces\n",
    "The main structures of linear algebra are vector spaces. A vector space over a field F (often the field of the real numbers) is a set V equipped with two binary operations satisfying the following axioms. Elements of V are called vectors, and elements of F are called scalars. The first operation, vector addition, takes any two vectors v and w and outputs a third vector v + w. The second operation, scalar multiplication, takes any scalar a and any vector v and outputs a new vector av. The operations of addition and multiplication in a vector space must satisfy the following axioms.[15] In the list below, let u, v and w be arbitrary vectors in V, and a and b scalars in F.\n",
    "\n",
    "### Axiom\tSignification\n",
    "* Associativity of addition\tu + (v + w) = (u + v) + w\n",
    "* Commutativity of addition\tu + v = v + u\n",
    "* Identity element of addition\tThere exists an element 0 ∈ V, called the zero vector, such that v + 0 = v for all v ∈ V.\n",
    "* Inverse elements of addition\tFor every v ∈ V, there exists an element −v ∈ V, called the additive inverse of v, such that v + (−v) = 0\n",
    "* Distributivity of scalar multiplication with respect to vector addition  \ta(u + v) = au + av\n",
    "* Distributivity of scalar multiplication with respect to field addition\t(a + b)v = av + bv\n",
    "* Compatibility of scalar multiplication with field multiplication\ta(bv) = (ab)v\n",
    "* Identity element of scalar multiplication\t1v = v, where 1 denotes the multiplicative identity in F.\n",
    "\n",
    "\n",
    "The first four axioms are those of V being an abelian group under vector addition. Elements of a vector space may have various nature; for example, they can be sequences, functions, polynomials or matrices. Linear algebra is concerned with properties common to all vector spaces."
   ]
  },
  {
   "cell_type": "markdown",
   "metadata": {},
   "source": [
    "### Lets see how these look in numpy"
   ]
  },
  {
   "cell_type": "code",
   "execution_count": 26,
   "metadata": {},
   "outputs": [
    {
     "name": "stdout",
     "output_type": "stream",
     "text": [
      "Check associativity:\n",
      " [[ -3.2]\n",
      " [ 11. ]\n",
      " [ 20.5]] \n",
      "== \n",
      "[[ -3.2]\n",
      " [ 11. ]\n",
      " [ 20.5]]\n",
      " True!\n",
      "Check commutativity:\n",
      " [[ 0. ]\n",
      " [ 6. ]\n",
      " [ 8.5]]\n",
      " ==\n",
      " [[ 0. ]\n",
      " [ 6. ]\n",
      " [ 8.5]]\n",
      "Check addition has an identity element:\n",
      " [[-2. ]\n",
      " [ 3. ]\n",
      " [ 4.5]]\n",
      "+\n",
      "[[ 2. ]\n",
      " [-3. ]\n",
      " [-4.5]]\n",
      "==\n",
      "[[0]\n",
      " [0]\n",
      " [0]]\n",
      "You're getting the picture...\n"
     ]
    }
   ],
   "source": [
    "# Fix vectors u, v, w\n",
    "# Fix scalars a, b\n",
    "\n",
    "u = np.array([2,3,4]).reshape(3,1)\n",
    "v = np.array([-2,3,4.5]).reshape(3,1)\n",
    "w = np.array([-3.2, 5, 12]).reshape(3,1)\n",
    "zero = np.array([0,0,0]).reshape(3,1)\n",
    "\n",
    "a = 3.2\n",
    "b = 4\n",
    "\n",
    "print(\"Check associativity:\\n {} \\n== \\n{}\\n True!\".format(u + (v + w),(u + v) + w))\n",
    "print(\"Check commutativity:\\n {}\\n ==\\n {}\".format(u + v, v + u))\n",
    "print(\"Check addition has an identity element:\\n {}\\n+\\n{}\\n==\\n{}\".format(v, -v, zero))\n",
    "print(\"You're getting the picture...\")"
   ]
  },
  {
   "cell_type": "markdown",
   "metadata": {},
   "source": [
    "### Restating the Axioms in plain English...\n",
    "\n",
    "We are dealing with a situation analogous to one where we can stretch things along a number of dimensions.\n",
    "\n",
    "Basically it states that given a vector from a vector space we are allowed to...\n",
    "* Stretch (or shrink) that vector by some amount across all of its dimensions.\n",
    "* We can cancel a vector by adding a vector pointing opposite it with the same magnitude.\n",
    "* The basic rules of algebra (of stretching and shrinking) hold.\n",
    "* The basic algebraic rules associated with adding and subtracting components hold.\n",
    "* There is a unique stretch which does nothing when we stretch a vector by this quantity (identity).\n",
    "* There is a unique vector such that when added to another vector does nothing (think 0)\n",
    "\n",
    "Some interesting examples include.\n",
    "1.  The space of polynomial functions of degree less than n.\n",
    "2.  The space of matrices of shape (n, m) over the Reals is a vector space.\n",
    "3.  The real numbers are a vector space (as are the Complex numbers!)"
   ]
  },
  {
   "cell_type": "markdown",
   "metadata": {},
   "source": [
    "# And that's all for the intro folks!"
   ]
  },
  {
   "cell_type": "code",
   "execution_count": null,
   "metadata": {
    "collapsed": true
   },
   "outputs": [],
   "source": []
  }
 ],
 "metadata": {
  "kernelspec": {
   "display_name": "Python 3",
   "language": "python",
   "name": "python3"
  },
  "language_info": {
   "codemirror_mode": {
    "name": "ipython",
    "version": 3
   },
   "file_extension": ".py",
   "mimetype": "text/x-python",
   "name": "python",
   "nbconvert_exporter": "python",
   "pygments_lexer": "ipython3",
   "version": "3.5.3"
  }
 },
 "nbformat": 4,
 "nbformat_minor": 2
}
