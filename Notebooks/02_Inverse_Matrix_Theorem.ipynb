{
 "cells": [
  {
   "cell_type": "markdown",
   "metadata": {},
   "source": [
    "# The inverse Matrix Theorem\n",
    "\n",
    "The inverse matrix theorem is a statement about a number of equivalent conditions that we can impose on a matrix.\n",
    "\n",
    "Given a matrix A with shape (n, n)\n",
    "1.  Determinant(A) != 0 implies A^-1 exists.\n",
    "2.  We can find a Matrix B such that A * B = B * A = np.eye(n)\n",
    "3.  A^T exists and is invertible.\n",
    "\n",
    "These require some explanation."
   ]
  },
  {
   "cell_type": "markdown",
   "metadata": {},
   "source": [
    "## Determinants.\n",
    "\n",
    "Matrices may stretch "
   ]
  },
  {
   "cell_type": "code",
   "execution_count": 1,
   "metadata": {
    "collapsed": true
   },
   "outputs": [],
   "source": [
    "import numpy as np\n",
    "import numpy.linalg as la"
   ]
  },
  {
   "cell_type": "code",
   "execution_count": 10,
   "metadata": {},
   "outputs": [
    {
     "name": "stdout",
     "output_type": "stream",
     "text": [
      "[[1 2]\n",
      " [3 4]]\n",
      "Determinant is: -2.0000000000000004\n"
     ]
    }
   ],
   "source": [
    "A = np.array(range(1,5)).reshape(2,2)\n",
    "determinant_A = la.det(A)\n",
    "\n",
    "print(A)\n",
    "print(\"Determinant is: {}\".format(determinant_A)) # Notice the rounding error."
   ]
  },
  {
   "cell_type": "markdown",
   "metadata": {},
   "source": [
    "Hmm.... is this related to anything??"
   ]
  },
  {
   "cell_type": "code",
   "execution_count": 16,
   "metadata": {},
   "outputs": [
    {
     "name": "stdout",
     "output_type": "stream",
     "text": [
      "The Matrix A has eigenvalues: [-0.37228132326901431, 5.3722813232690143]\n",
      "And their product is: -1.9999999999999998\n"
     ]
    }
   ],
   "source": [
    "# Let's check it's eigenvalues.\n",
    "print(\"The Matrix A has eigenvalues: {}\".format([x for x in la.eigvals(A)]))\n",
    "print(\"And their product is: {}\".format(np.product(la.eigvals(A))))"
   ]
  },
  {
   "cell_type": "code",
   "execution_count": 21,
   "metadata": {},
   "outputs": [],
   "source": [
    "la.eig?"
   ]
  },
  {
   "cell_type": "code",
   "execution_count": 20,
   "metadata": {},
   "outputs": [
    {
     "name": "stdout",
     "output_type": "stream",
     "text": [
      "[-0.37228132  5.37228132]\n"
     ]
    }
   ],
   "source": [
    "eig, _ = la.eig(A)\n",
    "print(eig)"
   ]
  },
  {
   "cell_type": "code",
   "execution_count": null,
   "metadata": {
    "collapsed": true
   },
   "outputs": [],
   "source": []
  }
 ],
 "metadata": {
  "kernelspec": {
   "display_name": "Python 3",
   "language": "python",
   "name": "python3"
  },
  "language_info": {
   "codemirror_mode": {
    "name": "ipython",
    "version": 3
   },
   "file_extension": ".py",
   "mimetype": "text/x-python",
   "name": "python",
   "nbconvert_exporter": "python",
   "pygments_lexer": "ipython3",
   "version": "3.5.3"
  }
 },
 "nbformat": 4,
 "nbformat_minor": 2
}
